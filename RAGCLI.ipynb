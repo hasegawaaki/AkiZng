{
 "cells": [
  {
   "cell_type": "markdown",
   "id": "dfe37963-1af6-44fc-a841-8e462443f5e6",
   "metadata": {},
   "source": [
    "# RAG Agent with Local Gemini CLI and Conversational Memory\n",
    "\n",
    "### A Question Answering Agent\n",
    "\n",
    "This notebook builds and runs a complete Retrieval-Augmented Generation (RAG) agent. The agent uses a local knowledge base of PDF documents to answer questions and maintains a history of the conversation.\n",
    "\n",
    "**Before Running:** Please ensure you have created a `.env` file with your `GOOGLE_API_KEY` and have correctly configured the path to your Gemini CLI script in the `query_with_gemini_cli` function."
   ]
  },
  {
   "cell_type": "code",
   "execution_count": 39,
   "id": "ba2779af-84ef-4227-9e9e-6eaf0df87e77",
   "metadata": {},
   "outputs": [],
   "source": [
    "# imports\n",
    "\n",
    "import os\n",
    "import glob\n",
    "from dotenv import load_dotenv\n",
    "import subprocess\n",
    "import gradio as gr"
   ]
  },
  {
   "cell_type": "code",
   "execution_count": 40,
   "id": "71ee9fe3",
   "metadata": {},
   "outputs": [],
   "source": [
    "# Load the .env file and get your API key.\n",
    "# Create a file named .env and add the line:\n",
    "# GOOGLE_API_KEY=\"your-api-key-here\"\n",
    "load_dotenv()\n",
    "if 'GOOGLE_API_KEY' not in os.environ:\n",
    "    print(\"ERROR: GOOGLE_API_KEY not found in environment variables.\")\n",
    "    print(\"Please create a .env file and add your key.\")\n",
    "    exit()"
   ]
  },
  {
   "cell_type": "code",
   "execution_count": 41,
   "id": "802137aa-8a74-45e0-a487-d1974927d7ca",
   "metadata": {},
   "outputs": [],
   "source": [
    "# imports for langchain\n",
    "\n",
    "from langchain.document_loaders import DirectoryLoader, TextLoader, PyPDFLoader\n",
    "from langchain.text_splitter import CharacterTextSplitter\n",
    "from langchain_google_genai import GoogleGenerativeAIEmbeddings\n",
    "from langchain.vectorstores import FAISS"
   ]
  },
  {
   "cell_type": "code",
   "execution_count": null,
   "id": "730711a9-6ffe-4eee-8f48-d6cfb7314905",
   "metadata": {},
   "outputs": [
    {
     "name": "stdout",
     "output_type": "stream",
     "text": [
      "Loading documents from 'knowledge-base'...\n"
     ]
    },
    {
     "name": "stderr",
     "output_type": "stream",
     "text": [
      "  0%|          | 0/1 [00:00<?, ?it/s]"
     ]
    },
    {
     "name": "stderr",
     "output_type": "stream",
     "text": [
      "100%|██████████| 1/1 [00:03<00:00,  3.94s/it]\n"
     ]
    }
   ],
   "source": [
    "# Read in documents using LangChain's loaders\n",
    "print(\"Loading documents from 'knowledge-base'...\")\n",
    "folders = glob.glob(\"knowledge-base/*\")\n",
    "\n",
    "\n",
    "documents = []\n",
    "for folder in folders:\n",
    "    doc_type = os.path.basename(folder)\n",
    "    loader = DirectoryLoader(folder, glob=\"**/*.pdf\", loader_cls=PyPDFLoader, show_progress=True)\n",
    "    folder_docs = loader.load()\n",
    "    for doc in folder_docs:\n",
    "        doc.metadata[\"doc_type\"] = doc_type\n",
    "        documents.append(doc)"
   ]
  },
  {
   "cell_type": "code",
   "execution_count": 44,
   "id": "252f17e9-3529-4e81-996c-cfa9f08e75a8",
   "metadata": {},
   "outputs": [
    {
     "data": {
      "text/plain": [
       "297"
      ]
     },
     "execution_count": 44,
     "metadata": {},
     "output_type": "execute_result"
    }
   ],
   "source": [
    "len(documents)"
   ]
  },
  {
   "cell_type": "code",
   "execution_count": 45,
   "id": "7310c9c8-03c1-4efc-a104-5e89aec6db1a",
   "metadata": {},
   "outputs": [
    {
     "name": "stdout",
     "output_type": "stream",
     "text": [
      "Splitting documents into chunks...\n"
     ]
    }
   ],
   "source": [
    "print(\"Splitting documents into chunks...\")\n",
    "text_splitter = CharacterTextSplitter(chunk_size=1000, chunk_overlap=200)\n",
    "chunks = text_splitter.split_documents(documents)"
   ]
  },
  {
   "cell_type": "code",
   "execution_count": 46,
   "id": "cd06e02f-6d9b-44cc-a43d-e1faa8acc7bb",
   "metadata": {},
   "outputs": [
    {
     "data": {
      "text/plain": [
       "291"
      ]
     },
     "execution_count": 46,
     "metadata": {},
     "output_type": "execute_result"
    }
   ],
   "source": [
    "len(chunks)"
   ]
  },
  {
   "cell_type": "code",
   "execution_count": null,
   "id": "10dec64d",
   "metadata": {},
   "outputs": [
    {
     "name": "stdout",
     "output_type": "stream",
     "text": [
      "Creating embeddings with GoogleGenerativeAIEmbeddings...\n",
      "Creating FAISS vector store...\n",
      "FAISS vector store and retriever are ready.\n"
     ]
    }
   ],
   "source": [
    "# Create Embeddings and Store in Vector DB\n",
    "print(\"Creating embeddings with GoogleGenerativeAIEmbeddings...\")\n",
    "embeddings = GoogleGenerativeAIEmbeddings(model=\"models/embedding-001\")\n",
    "\n",
    "print(\"Creating FAISS vector store...\")\n",
    "vectorstore = FAISS.from_documents(chunks, embedding=embeddings)\n",
    "retriever = vectorstore.as_retriever(search_kwargs={'k': 3})\n",
    "print(\"FAISS vector store and retriever are ready.\")"
   ]
  },
  {
   "cell_type": "code",
   "execution_count": null,
   "id": "f98ff2e6",
   "metadata": {},
   "outputs": [],
   "source": [
    "# Function to Call Gemini CLI with History\n",
    "def query_with_gemini_cli(question: str, history: list):\n",
    "    \"\"\"\n",
    "    Retrieves context, formats a prompt with history, and calls the local gemini CLI.\n",
    "    \"\"\"\n",
    "    # Retrieve relevant documents\n",
    "    print(\"> Retrieving context...\")\n",
    "    retrieved_docs = retriever.get_relevant_documents(question)\n",
    "    context_string = \"\\n\\n\".join([doc.page_content for doc in retrieved_docs])\n",
    "\n",
    "    # Format the conversation history into a string\n",
    "    history_string = \"\"\n",
    "    for user_msg, ai_msg in history:\n",
    "        history_string += f\"User: {user_msg}\\nAI: {ai_msg}\\n\"\n",
    "\n",
    "    # Build the full prompt including history, context, and the new question\n",
    "    formatted_prompt = f\"\"\"Please answer the \"Current Question\" based on the \"Context from Knowledge Base\" and the \"Conversation History\" provided below.\n",
    "Your answer should be concise and direct.\n",
    "\n",
    "--- CONVERSATION HISTORY ---\n",
    "{history_string}\n",
    "--- CONTEXT FROM KNOWLEDGE BASE ---\n",
    "{context_string}\n",
    "--- CURRENT QUESTION ---\n",
    "{question}\n",
    "\"\"\"\n",
    "\n",
    "    # Call the CLI from your local path (to update the path and run from your own machine)\n",
    "    gemini_script_path = \"C:\\\\Users\\\\YourUsername\\\\AppData\\\\Roaming\\\\npm\\\\gemini.ps1\"\n",
    "    command = [\n",
    "        \"powershell.exe\",\n",
    "        \"-ExecutionPolicy\", \"Bypass\",\n",
    "        \"-File\", gemini_script_path,\n",
    "        \"-m\", \"gemini-2.5-flash\"\n",
    "    ]\n",
    "    \n",
    "    print(f\"> Executing PowerShell command and piping prompt via stdin...\")\n",
    "\n",
    "    try:\n",
    "        result = subprocess.run(\n",
    "            command,\n",
    "            capture_output=True,\n",
    "            text=True,\n",
    "            check=True,\n",
    "            encoding='utf-8',\n",
    "            shell=False,\n",
    "            input=formatted_prompt # Pass the prompt here\n",
    "        )\n",
    "        return result.stdout\n",
    "    except subprocess.CalledProcessError as e:\n",
    "        print(f\"ERROR: The CLI process returned a non-zero exit code {e.returncode}.\")\n",
    "        print(f\"STDOUT: {e.stdout}\")\n",
    "        print(f\"STDERR: {e.stderr}\") # This will show us any errors from the script itself\n",
    "        return \"Sorry, the CLI process failed. Check the console for details.\"\n",
    "    except Exception as e:\n",
    "        print(f\"An error occurred while calling the CLI: {e}\")\n",
    "        return \"Sorry, I encountered an error while trying to generate a response.\""
   ]
  },
  {
   "cell_type": "code",
   "execution_count": null,
   "id": "c6768a35",
   "metadata": {},
   "outputs": [],
   "source": [
    "# Gradio Chat Function to Pass History\n",
    "def chat(message, history):\n",
    "    \"\"\"\n",
    "    Gradio chat function. It now passes the `history` to the query function.\n",
    "    \"\"\"\n",
    "    if not message:\n",
    "        return \"Please ask a question.\"\n",
    "    # Pass the current message and the history managed by Gradio\n",
    "    return query_with_gemini_cli(message, history)\n"
   ]
  },
  {
   "cell_type": "code",
   "execution_count": null,
   "id": "5e0ace6d",
   "metadata": {},
   "outputs": [
    {
     "name": "stdout",
     "output_type": "stream",
     "text": [
      "Launching Gradio interface...\n"
     ]
    },
    {
     "name": "stderr",
     "output_type": "stream",
     "text": [
      "c:\\Users\\YourUsername\\projects\\agents\\.venv\\Lib\\site-packages\\gradio\\chat_interface.py:339: UserWarning: The 'tuples' format for chatbot messages is deprecated and will be removed in a future version of Gradio. Please set type='messages' instead, which uses openai-style 'role' and 'content' keys.\n",
      "  self.chatbot = Chatbot(\n"
     ]
    },
    {
     "name": "stdout",
     "output_type": "stream",
     "text": [
      "* Running on local URL",
      "* To create a public link, set `share=True` in `launch()`.\n"
     ]
    },
    {
     "data": {
      "text/html": [
       "<div><iframe src=\"http://127.0.0.1:7868/\" width=\"100%\" height=\"500\" allow=\"autoplay; camera; microphone; clipboard-read; clipboard-write;\" frameborder=\"0\" allowfullscreen></iframe></div>"
      ],
      "text/plain": [
       "<IPython.core.display.HTML object>"
      ]
     },
     "metadata": {},
     "output_type": "display_data"
    },
    {
     "name": "stdout",
     "output_type": "stream",
     "text": [
      "> Retrieving context...\n",
      "> Executing PowerShell command and piping prompt via stdin...\n",
      "> Retrieving context...\n",
      "> Executing PowerShell command and piping prompt via stdin...\n",
      "> Retrieving context...\n",
      "> Executing PowerShell command and piping prompt via stdin...\n",
      "> Retrieving context...\n",
      "> Executing PowerShell command and piping prompt via stdin...\n"
     ]
    }
   ],
   "source": [
    "# Launch Gradio UI\n",
    "print(\"Launching Gradio interface...\")\n",
    "view = gr.ChatInterface(chat,\n",
    "                        title=\"Expert Knowledge Worker (With Memory)\",\n",
    "                        description=\"This is a chatbot that can call an external CLI and remember conversation history.\",\n",
    "                       ).launch(inbrowser=True)"
   ]
  }
 ],
 "metadata": {
  "kernelspec": {
   "display_name": ".venv",
   "language": "python",
   "name": "python3"
  },
  "language_info": {
   "codemirror_mode": {
    "name": "ipython",
    "version": 3
   },
   "file_extension": ".py",
   "mimetype": "text/x-python",
   "name": "python",
   "nbconvert_exporter": "python",
   "pygments_lexer": "ipython3",
   "version": "3.12.7"
  }
 },
 "nbformat": 4,
 "nbformat_minor": 5
}
